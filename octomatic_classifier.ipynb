{
  "cells": [
    {
      "cell_type": "markdown",
      "metadata": {
        "id": "view-in-github",
        "colab_type": "text"
      },
      "source": [
        "<a href=\"https://colab.research.google.com/github/cspringbett/octomatic/blob/main/octomatic_classifier.ipynb\" target=\"_parent\"><img src=\"https://colab.research.google.com/assets/colab-badge.svg\" alt=\"Open In Colab\"/></a>"
      ]
    },
    {
      "cell_type": "markdown",
      "metadata": {
        "id": "t2468bSYpnAM"
      },
      "source": [
        "Mount Colab"
      ]
    },
    {
      "cell_type": "code",
      "execution_count": 1,
      "metadata": {
        "colab": {
          "base_uri": "https://localhost:8080/"
        },
        "id": "DrUwkW4kpk0P",
        "outputId": "56227ed3-58df-4a5d-9974-fdce57591dfc"
      },
      "outputs": [
        {
          "output_type": "stream",
          "name": "stdout",
          "text": [
            "Mounted at /content/drive\n"
          ]
        }
      ],
      "source": [
        "from google.colab import drive\n",
        "drive.mount('/content/drive', force_remount=True)"
      ]
    },
    {
      "cell_type": "markdown",
      "metadata": {
        "id": "aN1DH21wp5zC"
      },
      "source": [
        "Load Model and Classes"
      ]
    },
    {
      "cell_type": "code",
      "execution_count": 2,
      "metadata": {
        "colab": {
          "base_uri": "https://localhost:8080/"
        },
        "id": "hs8s0ZpsopFg",
        "outputId": "c6f16e5e-09fa-40d2-bbef-334823e552cc"
      },
      "outputs": [
        {
          "output_type": "stream",
          "name": "stderr",
          "text": [
            "WARNING:absl:Compiled the loaded model, but the compiled metrics have yet to be built. `model.compile_metrics` will be empty until you train or evaluate the model.\n"
          ]
        },
        {
          "output_type": "stream",
          "name": "stdout",
          "text": [
            "⚠️ Could not load octopus_furvus range: /content/drive/MyDrive/OctoMatic_SpeciesID/species_ranges/octopus_furvus.geojson: No such file or directory\n"
          ]
        }
      ],
      "source": [
        "import json\n",
        "import pandas as pd\n",
        "import os\n",
        "import numpy as np\n",
        "import tensorflow as tf\n",
        "import geopandas as gpd\n",
        "import folium\n",
        "from shapely.geometry import Point\n",
        "from geopy.geocoders import Nominatim\n",
        "from tensorflow.keras.preprocessing.image import load_img, img_to_array\n",
        "import matplotlib.cm as cm\n",
        "import matplotlib.colors as mcolors\n",
        "\n",
        "\n",
        "# Constants\n",
        "IMAGE_SIZE = (224, 224)\n",
        "CONFIDENCE_THRESHOLD = 0.75\n",
        "species_names = ['macrotritopus_defilippi', 'octopus_americanus', 'octopus_briareus', 'octopus_furvus', 'octopus_insularis']\n",
        "OUTPUT_DIR = \"/content/drive/MyDrive/OctoMatic_SpeciesID/output\"\n",
        "GEOJSON_DIR = \"/content/drive/MyDrive/OctoMatic_SpeciesID/species_ranges\"\n",
        "METADATA_PATH = \"/content/drive/MyDrive/OctoMatic_SpeciesID/species_info.json\"\n",
        "\n",
        "# Load model\n",
        "model = tf.keras.models.load_model(f\"{OUTPUT_DIR}/MobileNetV2_fold1.h5\")\n",
        "\n",
        "# Load GeoJSON ranges\n",
        "geojson_ranges = {}\n",
        "for species in species_names:\n",
        "    path = f\"{GEOJSON_DIR}/{species}.geojson\"\n",
        "    try:\n",
        "        geojson_ranges[species] = gpd.read_file(path)\n",
        "    except Exception as e:\n",
        "        print(f\"⚠️ Could not load {species} range: {e}\")\n",
        "\n",
        "# Load metadata\n",
        "with open(METADATA_PATH) as f:\n",
        "    species_info = json.load(f)\n"
      ]
    },
    {
      "cell_type": "markdown",
      "metadata": {
        "id": "SsPw0LU274Ru"
      },
      "source": [
        "Geocode City/State Input to Coordinates"
      ]
    },
    {
      "cell_type": "code",
      "execution_count": 3,
      "metadata": {
        "id": "EWb6Rp9p72Ez"
      },
      "outputs": [],
      "source": [
        "def geocode_location(location_str):\n",
        "    geolocator = Nominatim(user_agent=\"octomatic_app\")\n",
        "    loc = geolocator.geocode(location_str, timeout=10)\n",
        "    if loc:\n",
        "        return loc.latitude, loc.longitude\n",
        "    return None, None\n"
      ]
    },
    {
      "cell_type": "markdown",
      "metadata": {
        "id": "De45baCS8DgX"
      },
      "source": [
        "Location Filtering Logic"
      ]
    },
    {
      "cell_type": "code",
      "execution_count": 4,
      "metadata": {
        "id": "-FTTpQlD_31J"
      },
      "outputs": [],
      "source": [
        "from shapely.geometry import Point\n",
        "\n",
        "def filter_predictions_by_geojson(preds, species_names, lat, lon, geojson_ranges, buffer_km=25):\n",
        "    point = Point(lon, lat).buffer(buffer_km / 111)  # rough buffer conversion to degrees\n",
        "    in_range_species = []\n",
        "    messages = []\n",
        "\n",
        "    for species, gdf in geojson_ranges.items():\n",
        "        try:\n",
        "            if gdf.geometry.intersects(point).any():\n",
        "                in_range_species.append(species)\n",
        "        except Exception as e:\n",
        "            messages.append(f\"⚠️ Error checking {species}: {e}\")\n",
        "\n",
        "    for species in species_names:\n",
        "        if species not in geojson_ranges:\n",
        "            messages.append(f\"⚠️ {species}: No range file — not filtered\")\n",
        "        elif species in in_range_species:\n",
        "            messages.append(f\"✅ {species}: Within known range\")\n",
        "        else:\n",
        "            messages.append(f\"❗ {species}: Outside known range\")\n",
        "\n",
        "    return preds, messages  # Keep predictions unchanged\n",
        "\n",
        "\n",
        "\n"
      ]
    },
    {
      "cell_type": "markdown",
      "metadata": {
        "id": "VH0cY8Zd9gK3"
      },
      "source": [
        "Create distribution map"
      ]
    },
    {
      "cell_type": "code",
      "execution_count": 5,
      "metadata": {
        "id": "yuWovhCg9jAe"
      },
      "outputs": [],
      "source": [
        "def create_range_map(lat, lon, predicted_species, gdf):\n",
        "    m = folium.Map(location=[lat, lon], zoom_start=6)\n",
        "\n",
        "    folium.Marker(\n",
        "        location=[lat, lon],\n",
        "        popup=\"Input Location\",\n",
        "        icon=folium.Icon(color=\"blue\", icon=\"info-sign\")\n",
        "    ).add_to(m)\n",
        "\n",
        "    try:\n",
        "        folium.GeoJson(gdf, name=predicted_species, tooltip=predicted_species).add_to(m)\n",
        "    except Exception as e:\n",
        "        print(f\"Error adding GeoJSON to map: {e}\")\n",
        "\n",
        "    return m._repr_html_()\n"
      ]
    },
    {
      "cell_type": "markdown",
      "metadata": {
        "id": "bovDOySWt_ZE"
      },
      "source": [
        "Classifier and Gradio UI"
      ]
    },
    {
      "cell_type": "code",
      "execution_count": 6,
      "metadata": {
        "colab": {
          "base_uri": "https://localhost:8080/",
          "height": 684
        },
        "id": "j_NLpj2LuaMn",
        "outputId": "3f6d07f1-5cd6-4fa3-eaff-43cb9189c1cb"
      },
      "outputs": [
        {
          "output_type": "stream",
          "name": "stdout",
          "text": [
            "It looks like you are running Gradio on a hosted Jupyter notebook, which requires `share=True`. Automatically setting `share=True` (you can turn this off by setting `share=False` in `launch()` explicitly).\n",
            "\n",
            "Colab notebook detected. This cell will run indefinitely so that you can see errors and logs. To turn off, set debug=False in launch().\n",
            "* Running on public URL: https://3e5d3e58ad6c6ce3ae.gradio.live\n",
            "\n",
            "This share link expires in 1 week. For free permanent hosting and GPU upgrades, run `gradio deploy` from the terminal in the working directory to deploy to Hugging Face Spaces (https://huggingface.co/spaces)\n"
          ]
        },
        {
          "output_type": "display_data",
          "data": {
            "text/plain": [
              "<IPython.core.display.HTML object>"
            ],
            "text/html": [
              "<div><iframe src=\"https://3e5d3e58ad6c6ce3ae.gradio.live\" width=\"100%\" height=\"500\" allow=\"autoplay; camera; microphone; clipboard-read; clipboard-write;\" frameborder=\"0\" allowfullscreen></iframe></div>"
            ]
          },
          "metadata": {}
        },
        {
          "output_type": "stream",
          "name": "stdout",
          "text": [
            "Keyboard interruption in main thread... closing server.\n",
            "Killing tunnel 127.0.0.1:7860 <> https://3e5d3e58ad6c6ce3ae.gradio.live\n"
          ]
        },
        {
          "output_type": "execute_result",
          "data": {
            "text/plain": []
          },
          "metadata": {},
          "execution_count": 6
        }
      ],
      "source": [
        "# === Classify Function ===\n",
        "def classify_image(image, location_str=\"\", lat_input=None, lon_input=None):\n",
        "    # --- helpers ---\n",
        "    def format_species_name(slug: str) -> str:\n",
        "        parts = slug.split(\"_\", 1)\n",
        "        return f\"{parts[0].capitalize()} {parts[1]}\" if len(parts) == 2 else slug\n",
        "\n",
        "    def empty_conf_df():\n",
        "        # Neutral placeholder bars so BarPlot doesn't error\n",
        "        names = [format_species_name(s) for s in species_names]\n",
        "        return pd.DataFrame({\n",
        "            \"class\": names,\n",
        "            \"confidence\": [0.0] * len(names),\n",
        "            \"color\": [\"#d3d3d3\"] * len(names)\n",
        "        })\n",
        "\n",
        "    # --- if no image, return placeholders ---\n",
        "    if image is None:\n",
        "        return (\n",
        "            \"Please upload an image.\",\n",
        "            empty_conf_df(),\n",
        "            \"No location provided.\",  # geo-filtering details\n",
        "            \"\",                       # description\n",
        "            None,                     # example image\n",
        "            \"<p>No map available</p>\" # map HTML\n",
        "        )\n",
        "\n",
        "    # --- preprocess image ---\n",
        "    img = image.resize(IMAGE_SIZE)\n",
        "    img_array = np.array(img) / 255.0\n",
        "    img_array = np.expand_dims(img_array, axis=0)\n",
        "\n",
        "    # --- predict ---\n",
        "    preds = model.predict(img_array)[0]  # shape: (num_classes,)\n",
        "\n",
        "    # --- optional geo-filtering & map ---\n",
        "    filtering_msg = [\"No location provided, no filtering applied.\"]\n",
        "    map_html = \"<p>No map available</p>\"\n",
        "\n",
        "    lat = lon = None\n",
        "    used_source = None\n",
        "\n",
        "   # A) numeric first\n",
        "    lat = lon = None\n",
        "    used_source = None\n",
        "    if lat_input is not None and lon_input is not None:\n",
        "        try:\n",
        "            lat = float(lat_input); lon = float(lon_input)\n",
        "            if (lat, lon) != (0.0, 0.0) or (location_str and location_str.strip() == \"0,0\"):\n",
        "                used_source = \"numeric\"\n",
        "            else:\n",
        "                lat = lon = None\n",
        "        except Exception:\n",
        "            lat = lon = None\n",
        "            filtering_msg = [\"Invalid numeric coordinates.\"]\n",
        "\n",
        "# B) fall back to geocoding if needed\n",
        "    if (lat is None or lon is None) and location_str and location_str.strip():\n",
        "        try:\n",
        "            geolocator = Nominatim(user_agent=\"octo_classifier\", timeout=10)\n",
        "            location = geolocator.geocode(location_str.strip())\n",
        "        except Exception as e:\n",
        "            location = None\n",
        "            filtering_msg = [f\"Geocoding error: {e}\"]\n",
        "        if location:\n",
        "            lat, lon = location.latitude, location.longitude\n",
        "            used_source = \"geocoded\"\n",
        "        elif not filtering_msg or \"Geocoding error\" not in filtering_msg[0]:\n",
        "            filtering_msg = [f\"Could not geocode location: {location_str}\"]\n",
        "\n",
        "# C) apply filtering & map if we have coords; else default behavior\n",
        "    if lat is not None and lon is not None:\n",
        "        preds, filtering_msg = filter_predictions_by_geojson(\n",
        "            preds, species_names, lat, lon, geojson_ranges\n",
        "        )\n",
        "        top_slug_for_map = species_names[int(np.argmax(preds))]\n",
        "        if top_slug_for_map in geojson_ranges:\n",
        "            map_html = create_range_map(lat, lon, top_slug_for_map, geojson_ranges[top_slug_for_map])\n",
        "        if used_source == \"numeric\":\n",
        "            filtering_msg = [f\"Using numeric coordinates: ({lat:.5f}, {lon:.5f}).\"] + filtering_msg\n",
        "        elif used_source == \"geocoded\":\n",
        "            filtering_msg = [f\"Geocoded '{location_str.strip()}' → ({lat:.5f}, {lon:.5f}).\"] + filtering_msg\n",
        "    else:\n",
        "        top_slug_for_map = species_names[int(np.argmax(preds))]\n",
        "        if top_slug_for_map in geojson_ranges:\n",
        "            map_html = create_range_map(20.0, -70.0, top_slug_for_map, geojson_ranges[top_slug_for_map])\n",
        "\n",
        "\n",
        "    # --- top prediction label, pretty formatting ---\n",
        "    top_index = int(np.argmax(preds))\n",
        "    top_confidence = float(preds[top_index])\n",
        "    top_slug = species_names[top_index]\n",
        "    top_pretty = format_species_name(top_slug)\n",
        "    top_pct = int(round(top_confidence * 100))\n",
        "\n",
        "    if top_confidence >= CONFIDENCE_THRESHOLD:\n",
        "        label = f\"Top Prediction: {top_pretty} ({top_pct}%)\"\n",
        "    else:\n",
        "        label = \"Top Prediction: Unsure or Unknown Species\"\n",
        "\n",
        "    # --- build DataFrame for BarPlot ---\n",
        "    formatted_names = [format_species_name(s) for s in species_names]\n",
        "    confidences = [round(float(p) * 100, 2) for p in preds]\n",
        "\n",
        "    confidence_data = pd.DataFrame({\n",
        "        \"class\": formatted_names,\n",
        "        \"confidence\": confidences,\n",
        "    })\n",
        "\n",
        "    # Sort descending\n",
        "    confidence_data = confidence_data.sort_values(by=\"confidence\", ascending=False).reset_index(drop=True)\n",
        "\n",
        "    # Force categorical y-axis ordering by confidence\n",
        "    from pandas.api.types import CategoricalDtype\n",
        "    class_order = confidence_data[\"class\"].tolist()\n",
        "    confidence_data[\"class\"] = confidence_data[\"class\"].astype(\n",
        "        CategoricalDtype(categories=class_order, ordered=True)\n",
        "    )\n",
        "\n",
        "    # colors: viridis for all, black for top\n",
        "    viridis = cm.get_cmap(\"viridis\", len(confidences) or 1)\n",
        "    colors = [mcolors.to_hex(viridis(i / max(1, len(confidences) - 1))) for i in range(len(confidences))]\n",
        "    if len(colors) > 0:\n",
        "        colors[top_index] = \"#000000\"\n",
        "\n",
        "    confidence_data[\"color\"] = colors\n",
        "\n",
        "\n",
        "    # --- metadata (only if confident) ---\n",
        "    if top_confidence >= CONFIDENCE_THRESHOLD:\n",
        "        info = species_info.get(top_slug, {})\n",
        "        description = info.get(\"description\", \"No description available.\")\n",
        "        example_img_url = info.get(\"example_image\", None)\n",
        "    else:\n",
        "        description = \"\"\n",
        "        example_img_url = None\n",
        "\n",
        "    return label, confidence_data, \"\\n\".join(filtering_msg), description, example_img_url, map_html\n",
        "\n",
        "\n",
        "\n",
        "\n",
        "\n",
        "# === Gradio Interface ===\n",
        "\n",
        "import gradio as gr\n",
        "\n",
        "with gr.Blocks(\n",
        "    title=\"Octopus Species Classifier\",\n",
        "    theme=gr.themes.Ocean(\n",
        "        text_size=\"lg\",\n",
        "        font=[gr.themes.GoogleFont('Sniglet'), 'ui-sans-serif', 'system-ui', 'sans-serif'],\n",
        "    ).set(\n",
        "        body_background_fill='*primary_100',\n",
        "        body_background_fill_dark='*secondary_950',\n",
        "        body_text_color_subdued='*neutral_700',\n",
        "        background_fill_primary='*neutral_50',\n",
        "        background_fill_secondary='*neutral_100',\n",
        "        link_text_color_active='*neutral_700',\n",
        "        button_secondary_background_fill='linear-gradient(120deg, *secondary_500 0%, *primary_300 60%, *primary_400 100%)',\n",
        "        button_secondary_background_fill_dark='linear-gradient(120deg, *secondary_500 0%, *primary_300 60%, *primary_400 100%)'\n",
        "    )\n",
        ") as demo:\n",
        "    gr.Markdown(\"# 🐙 OctoMatic: An AI Solution for Octopus Species Identification\")\n",
        "    gr.Markdown(\"Upload an image of an octopus, and optionally enter a location for distribution data.\")\n",
        "\n",
        "    with gr.Row():\n",
        "        # ---- Inputs (left) ----\n",
        "        with gr.Column(scale=1):\n",
        "            image_input = gr.Image(type=\"pil\", label=\"Upload Octopus Image\")\n",
        "\n",
        "            with gr.Accordion(\"Optional Location as City OR Coordinates\", open=True):\n",
        "                location_input = gr.Textbox(\n",
        "                    label=\"City/State (optional)\",\n",
        "                    placeholder=\"e.g., Miami, FL (optional)\"\n",
        "                )\n",
        "                with gr.Row():\n",
        "                    lat_input = gr.Number(\n",
        "                        label=\"Latitude (optional)\", precision=6,\n",
        "                        value=None, minimum=-90, maximum=90,\n",
        "                        placeholder= \"e.g., 25.77\"\n",
        "                    )\n",
        "                    lon_input = gr.Number(\n",
        "                        label=\"Longitude (optional)\", precision=6,\n",
        "                        value=None, minimum=-180, maximum=180,\n",
        "                        placeholder=\"e.g., -80.19\"\n",
        "                    )\n",
        "\n",
        "            submit_btn = gr.Button(\"Classify\")\n",
        "\n",
        "        # ---- Outputs (right) ----\n",
        "        with gr.Column(scale=2):\n",
        "            with gr.Tabs():\n",
        "                with gr.Tab(\"Results\"):\n",
        "                    prediction_label = gr.Label(label=\"Top Prediction\")\n",
        "                    confidence_plot = gr.BarPlot(\n",
        "                        label=\"Prediction Confidence\",\n",
        "                        x=\"confidence\",\n",
        "                        y=\"class\",\n",
        "                        orientation=\"horizontal\",\n",
        "                        title=\"Prediction Confidence per Species\",\n",
        "                        x_title=\"Confidence (%)\",\n",
        "                        y_title=\"Species\",\n",
        "                        x_lim=(0, 100),\n",
        "                        tooltip=[\"confidence\"],\n",
        "                        color=\"color\"\n",
        "                    )\n",
        "                    with gr.Row():\n",
        "                        metadata_image = gr.Image(label=\"Example Image\", interactive=False)\n",
        "                        species_info_output = gr.HTML(label=\"Species Info / Notes\")\n",
        "\n",
        "                with gr.Tab(\"Geography\"):\n",
        "                  filtering_output = gr.Textbox(\n",
        "                      label=\"Geo-Filtering Details\",\n",
        "                      lines=8,           # a touch taller so it’s readable\n",
        "                      interactive=False,\n",
        "                      show_copy_button=True\n",
        "                  )\n",
        "                  map_output = gr.HTML(label=\"Species Range Map\")\n",
        "\n",
        "\n",
        "                with gr.Tab(\"Model Info\"):\n",
        "                    gr.Markdown(\"\"\"\n",
        "                    ### ℹ️ Model & Pipeline\n",
        "                    - **Backbone**: MobileNetV2 (ImageNet pre-trained), fine-tuned\n",
        "                    - **Training**: Stratified K-Fold cross-validation\n",
        "                    - **Class Imbalance**: Class weights + augmentation\n",
        "                    - **Evaluation**: Per-class precision/recall/F1, confusion matrices\n",
        "                    - **Prediction UX**: Confidence thresholding, optional geo-filtering by range polygons\n",
        "                    - **Notes**: Top prediction is highlighted in the confidence plot; map shows the predicted species distribution\n",
        "                    \"\"\")\n",
        "\n",
        "    # Wire up click → classify_image\n",
        "    submit_btn.click(\n",
        "        fn=classify_image,\n",
        "        inputs=[image_input, location_input, lat_input, lon_input],\n",
        "        outputs=[\n",
        "            prediction_label,\n",
        "            confidence_plot,\n",
        "            filtering_output,\n",
        "            species_info_output,\n",
        "            metadata_image,\n",
        "            map_output\n",
        "        ]\n",
        "    )\n",
        "\n",
        "demo.launch(debug=True)\n"
      ]
    },
    {
      "cell_type": "markdown",
      "metadata": {
        "id": "vBxBf-jRuOy9"
      },
      "source": [
        "Gradio"
      ]
    },
    {
      "cell_type": "code",
      "execution_count": 6,
      "metadata": {
        "id": "SM9KvUIJuQ10"
      },
      "outputs": [],
      "source": []
    }
  ],
  "metadata": {
    "colab": {
      "provenance": [],
      "authorship_tag": "ABX9TyMxVmdkli+E70+hzRITNtol",
      "include_colab_link": true
    },
    "kernelspec": {
      "display_name": "Python 3",
      "name": "python3"
    },
    "language_info": {
      "name": "python"
    }
  },
  "nbformat": 4,
  "nbformat_minor": 0
}